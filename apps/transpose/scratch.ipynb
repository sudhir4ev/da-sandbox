{
 "cells": [
  {
   "cell_type": "code",
   "id": "initial_id",
   "metadata": {
    "collapsed": true,
    "ExecuteTime": {
     "end_time": "2025-02-03T09:48:58.426386Z",
     "start_time": "2025-02-03T09:48:58.334242Z"
    }
   },
   "source": [
    "import pandas as pd\n",
    "\n",
    "sample_data = pd.read_csv('__sample/snp_daily_trimmed.csv')\n",
    "\n",
    "firstRow = sample_data.head(1)\n",
    "\n",
    "n = 18\n",
    "\n",
    "if n%2 == 1:\n",
    "    print('odd: Weird')\n",
    "elif (n >= 2 and n <= 5):\n",
    "    print('2-5: Not Weird')\n",
    "elif (n >= 6 and n <= 20):\n",
    "    print('6-20: Weird')\n",
    "else:\n",
    "    print('< 20: Not Weird')"
   ],
   "outputs": [
    {
     "name": "stdout",
     "output_type": "stream",
     "text": [
      "6-20: Weird\n"
     ]
    }
   ],
   "execution_count": 15
  },
  {
   "metadata": {},
   "cell_type": "code",
   "outputs": [],
   "execution_count": null,
   "source": "",
   "id": "1c969f129e4246e5"
  }
 ],
 "metadata": {
  "kernelspec": {
   "display_name": "Python 3",
   "language": "python",
   "name": "python3"
  },
  "language_info": {
   "codemirror_mode": {
    "name": "ipython",
    "version": 2
   },
   "file_extension": ".py",
   "mimetype": "text/x-python",
   "name": "python",
   "nbconvert_exporter": "python",
   "pygments_lexer": "ipython2",
   "version": "2.7.6"
  }
 },
 "nbformat": 4,
 "nbformat_minor": 5
}
